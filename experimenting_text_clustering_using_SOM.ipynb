{
  "nbformat": 4,
  "nbformat_minor": 0,
  "metadata": {
    "colab": {
      "name": "experimenting text clustering using SOM.ipynb",
      "provenance": [],
      "collapsed_sections": [],
      "authorship_tag": "ABX9TyNqRXSJ7Eu+YvRxCGYuwI08",
      "include_colab_link": true
    },
    "kernelspec": {
      "name": "python3",
      "display_name": "Python 3"
    },
    "language_info": {
      "name": "python"
    },
    "widgets": {
      "application/vnd.jupyter.widget-state+json": {
        "eca49326b3ea48dfa70da6476e94c783": {
          "model_module": "@jupyter-widgets/controls",
          "model_name": "HBoxModel",
          "model_module_version": "1.5.0",
          "state": {
            "_dom_classes": [],
            "_model_module": "@jupyter-widgets/controls",
            "_model_module_version": "1.5.0",
            "_model_name": "HBoxModel",
            "_view_count": null,
            "_view_module": "@jupyter-widgets/controls",
            "_view_module_version": "1.5.0",
            "_view_name": "HBoxView",
            "box_style": "",
            "children": [
              "IPY_MODEL_6915954a233649499cb9dac0bb72660c",
              "IPY_MODEL_7653d1141ce8401dacb88ca868ecb644",
              "IPY_MODEL_5b0528dd69fb44c7b213acf6ec683cf1"
            ],
            "layout": "IPY_MODEL_44a24deeb6c3443685b92ff2ad8757cf"
          }
        },
        "6915954a233649499cb9dac0bb72660c": {
          "model_module": "@jupyter-widgets/controls",
          "model_name": "HTMLModel",
          "model_module_version": "1.5.0",
          "state": {
            "_dom_classes": [],
            "_model_module": "@jupyter-widgets/controls",
            "_model_module_version": "1.5.0",
            "_model_name": "HTMLModel",
            "_view_count": null,
            "_view_module": "@jupyter-widgets/controls",
            "_view_module_version": "1.5.0",
            "_view_name": "HTMLView",
            "description": "",
            "description_tooltip": null,
            "layout": "IPY_MODEL_2797c9815baf44c691517880bc292cd0",
            "placeholder": "​",
            "style": "IPY_MODEL_60d31d32c7f14be9b0b09d6ee07a0e5f",
            "value": "100%"
          }
        },
        "7653d1141ce8401dacb88ca868ecb644": {
          "model_module": "@jupyter-widgets/controls",
          "model_name": "FloatProgressModel",
          "model_module_version": "1.5.0",
          "state": {
            "_dom_classes": [],
            "_model_module": "@jupyter-widgets/controls",
            "_model_module_version": "1.5.0",
            "_model_name": "FloatProgressModel",
            "_view_count": null,
            "_view_module": "@jupyter-widgets/controls",
            "_view_module_version": "1.5.0",
            "_view_name": "ProgressView",
            "bar_style": "success",
            "description": "",
            "description_tooltip": null,
            "layout": "IPY_MODEL_035df749546e4fcd818ff9de912a8c35",
            "max": 3,
            "min": 0,
            "orientation": "horizontal",
            "style": "IPY_MODEL_6ca77d8e24044388a8d3120800320d1e",
            "value": 3
          }
        },
        "5b0528dd69fb44c7b213acf6ec683cf1": {
          "model_module": "@jupyter-widgets/controls",
          "model_name": "HTMLModel",
          "model_module_version": "1.5.0",
          "state": {
            "_dom_classes": [],
            "_model_module": "@jupyter-widgets/controls",
            "_model_module_version": "1.5.0",
            "_model_name": "HTMLModel",
            "_view_count": null,
            "_view_module": "@jupyter-widgets/controls",
            "_view_module_version": "1.5.0",
            "_view_name": "HTMLView",
            "description": "",
            "description_tooltip": null,
            "layout": "IPY_MODEL_2e68175504394bb1b35aedf8240ba9da",
            "placeholder": "​",
            "style": "IPY_MODEL_debab9974f024c7692fe7dbc7b4426e9",
            "value": " 3/3 [00:00&lt;00:00,  3.66it/s]"
          }
        },
        "44a24deeb6c3443685b92ff2ad8757cf": {
          "model_module": "@jupyter-widgets/base",
          "model_name": "LayoutModel",
          "model_module_version": "1.2.0",
          "state": {
            "_model_module": "@jupyter-widgets/base",
            "_model_module_version": "1.2.0",
            "_model_name": "LayoutModel",
            "_view_count": null,
            "_view_module": "@jupyter-widgets/base",
            "_view_module_version": "1.2.0",
            "_view_name": "LayoutView",
            "align_content": null,
            "align_items": null,
            "align_self": null,
            "border": null,
            "bottom": null,
            "display": null,
            "flex": null,
            "flex_flow": null,
            "grid_area": null,
            "grid_auto_columns": null,
            "grid_auto_flow": null,
            "grid_auto_rows": null,
            "grid_column": null,
            "grid_gap": null,
            "grid_row": null,
            "grid_template_areas": null,
            "grid_template_columns": null,
            "grid_template_rows": null,
            "height": null,
            "justify_content": null,
            "justify_items": null,
            "left": null,
            "margin": null,
            "max_height": null,
            "max_width": null,
            "min_height": null,
            "min_width": null,
            "object_fit": null,
            "object_position": null,
            "order": null,
            "overflow": null,
            "overflow_x": null,
            "overflow_y": null,
            "padding": null,
            "right": null,
            "top": null,
            "visibility": null,
            "width": null
          }
        },
        "2797c9815baf44c691517880bc292cd0": {
          "model_module": "@jupyter-widgets/base",
          "model_name": "LayoutModel",
          "model_module_version": "1.2.0",
          "state": {
            "_model_module": "@jupyter-widgets/base",
            "_model_module_version": "1.2.0",
            "_model_name": "LayoutModel",
            "_view_count": null,
            "_view_module": "@jupyter-widgets/base",
            "_view_module_version": "1.2.0",
            "_view_name": "LayoutView",
            "align_content": null,
            "align_items": null,
            "align_self": null,
            "border": null,
            "bottom": null,
            "display": null,
            "flex": null,
            "flex_flow": null,
            "grid_area": null,
            "grid_auto_columns": null,
            "grid_auto_flow": null,
            "grid_auto_rows": null,
            "grid_column": null,
            "grid_gap": null,
            "grid_row": null,
            "grid_template_areas": null,
            "grid_template_columns": null,
            "grid_template_rows": null,
            "height": null,
            "justify_content": null,
            "justify_items": null,
            "left": null,
            "margin": null,
            "max_height": null,
            "max_width": null,
            "min_height": null,
            "min_width": null,
            "object_fit": null,
            "object_position": null,
            "order": null,
            "overflow": null,
            "overflow_x": null,
            "overflow_y": null,
            "padding": null,
            "right": null,
            "top": null,
            "visibility": null,
            "width": null
          }
        },
        "60d31d32c7f14be9b0b09d6ee07a0e5f": {
          "model_module": "@jupyter-widgets/controls",
          "model_name": "DescriptionStyleModel",
          "model_module_version": "1.5.0",
          "state": {
            "_model_module": "@jupyter-widgets/controls",
            "_model_module_version": "1.5.0",
            "_model_name": "DescriptionStyleModel",
            "_view_count": null,
            "_view_module": "@jupyter-widgets/base",
            "_view_module_version": "1.2.0",
            "_view_name": "StyleView",
            "description_width": ""
          }
        },
        "035df749546e4fcd818ff9de912a8c35": {
          "model_module": "@jupyter-widgets/base",
          "model_name": "LayoutModel",
          "model_module_version": "1.2.0",
          "state": {
            "_model_module": "@jupyter-widgets/base",
            "_model_module_version": "1.2.0",
            "_model_name": "LayoutModel",
            "_view_count": null,
            "_view_module": "@jupyter-widgets/base",
            "_view_module_version": "1.2.0",
            "_view_name": "LayoutView",
            "align_content": null,
            "align_items": null,
            "align_self": null,
            "border": null,
            "bottom": null,
            "display": null,
            "flex": null,
            "flex_flow": null,
            "grid_area": null,
            "grid_auto_columns": null,
            "grid_auto_flow": null,
            "grid_auto_rows": null,
            "grid_column": null,
            "grid_gap": null,
            "grid_row": null,
            "grid_template_areas": null,
            "grid_template_columns": null,
            "grid_template_rows": null,
            "height": null,
            "justify_content": null,
            "justify_items": null,
            "left": null,
            "margin": null,
            "max_height": null,
            "max_width": null,
            "min_height": null,
            "min_width": null,
            "object_fit": null,
            "object_position": null,
            "order": null,
            "overflow": null,
            "overflow_x": null,
            "overflow_y": null,
            "padding": null,
            "right": null,
            "top": null,
            "visibility": null,
            "width": null
          }
        },
        "6ca77d8e24044388a8d3120800320d1e": {
          "model_module": "@jupyter-widgets/controls",
          "model_name": "ProgressStyleModel",
          "model_module_version": "1.5.0",
          "state": {
            "_model_module": "@jupyter-widgets/controls",
            "_model_module_version": "1.5.0",
            "_model_name": "ProgressStyleModel",
            "_view_count": null,
            "_view_module": "@jupyter-widgets/base",
            "_view_module_version": "1.2.0",
            "_view_name": "StyleView",
            "bar_color": null,
            "description_width": ""
          }
        },
        "2e68175504394bb1b35aedf8240ba9da": {
          "model_module": "@jupyter-widgets/base",
          "model_name": "LayoutModel",
          "model_module_version": "1.2.0",
          "state": {
            "_model_module": "@jupyter-widgets/base",
            "_model_module_version": "1.2.0",
            "_model_name": "LayoutModel",
            "_view_count": null,
            "_view_module": "@jupyter-widgets/base",
            "_view_module_version": "1.2.0",
            "_view_name": "LayoutView",
            "align_content": null,
            "align_items": null,
            "align_self": null,
            "border": null,
            "bottom": null,
            "display": null,
            "flex": null,
            "flex_flow": null,
            "grid_area": null,
            "grid_auto_columns": null,
            "grid_auto_flow": null,
            "grid_auto_rows": null,
            "grid_column": null,
            "grid_gap": null,
            "grid_row": null,
            "grid_template_areas": null,
            "grid_template_columns": null,
            "grid_template_rows": null,
            "height": null,
            "justify_content": null,
            "justify_items": null,
            "left": null,
            "margin": null,
            "max_height": null,
            "max_width": null,
            "min_height": null,
            "min_width": null,
            "object_fit": null,
            "object_position": null,
            "order": null,
            "overflow": null,
            "overflow_x": null,
            "overflow_y": null,
            "padding": null,
            "right": null,
            "top": null,
            "visibility": null,
            "width": null
          }
        },
        "debab9974f024c7692fe7dbc7b4426e9": {
          "model_module": "@jupyter-widgets/controls",
          "model_name": "DescriptionStyleModel",
          "model_module_version": "1.5.0",
          "state": {
            "_model_module": "@jupyter-widgets/controls",
            "_model_module_version": "1.5.0",
            "_model_name": "DescriptionStyleModel",
            "_view_count": null,
            "_view_module": "@jupyter-widgets/base",
            "_view_module_version": "1.2.0",
            "_view_name": "StyleView",
            "description_width": ""
          }
        }
      }
    }
  },
  "cells": [
    {
      "cell_type": "markdown",
      "metadata": {
        "id": "view-in-github",
        "colab_type": "text"
      },
      "source": [
        "<a href=\"https://colab.research.google.com/github/abhinav-TB/text-summarization/blob/main/experimenting_text_clustering_using_SOM.ipynb\" target=\"_parent\"><img src=\"https://colab.research.google.com/assets/colab-badge.svg\" alt=\"Open In Colab\"/></a>"
      ]
    },
    {
      "cell_type": "markdown",
      "source": [
        "## Data Pre-Processing\n"
      ],
      "metadata": {
        "id": "A9mmWa-SZrKl"
      }
    },
    {
      "cell_type": "code",
      "execution_count": 45,
      "metadata": {
        "id": "KDjjPmfK4Oyy",
        "colab": {
          "base_uri": "https://localhost:8080/"
        },
        "outputId": "39131974-0c87-4488-ef56-5d4fbdab3494"
      },
      "outputs": [
        {
          "output_type": "stream",
          "name": "stdout",
          "text": [
            "Requirement already satisfied: datasets in /usr/local/lib/python3.7/dist-packages (1.18.4)\n",
            "Requirement already satisfied: multiprocess in /usr/local/lib/python3.7/dist-packages (from datasets) (0.70.12.2)\n",
            "Requirement already satisfied: responses<0.19 in /usr/local/lib/python3.7/dist-packages (from datasets) (0.18.0)\n",
            "Requirement already satisfied: dill in /usr/local/lib/python3.7/dist-packages (from datasets) (0.3.4)\n",
            "Requirement already satisfied: importlib-metadata in /usr/local/lib/python3.7/dist-packages (from datasets) (4.11.2)\n",
            "Requirement already satisfied: fsspec[http]>=2021.05.0 in /usr/local/lib/python3.7/dist-packages (from datasets) (2022.2.0)\n",
            "Requirement already satisfied: tqdm>=4.62.1 in /usr/local/lib/python3.7/dist-packages (from datasets) (4.63.0)\n",
            "Requirement already satisfied: xxhash in /usr/local/lib/python3.7/dist-packages (from datasets) (3.0.0)\n",
            "Requirement already satisfied: requests>=2.19.0 in /usr/local/lib/python3.7/dist-packages (from datasets) (2.23.0)\n",
            "Requirement already satisfied: huggingface-hub<1.0.0,>=0.1.0 in /usr/local/lib/python3.7/dist-packages (from datasets) (0.4.0)\n",
            "Requirement already satisfied: packaging in /usr/local/lib/python3.7/dist-packages (from datasets) (21.3)\n",
            "Requirement already satisfied: pyarrow!=4.0.0,>=3.0.0 in /usr/local/lib/python3.7/dist-packages (from datasets) (6.0.1)\n",
            "Requirement already satisfied: numpy>=1.17 in /usr/local/lib/python3.7/dist-packages (from datasets) (1.21.5)\n",
            "Requirement already satisfied: pandas in /usr/local/lib/python3.7/dist-packages (from datasets) (1.3.5)\n",
            "Requirement already satisfied: aiohttp in /usr/local/lib/python3.7/dist-packages (from datasets) (3.8.1)\n",
            "Requirement already satisfied: pyyaml in /usr/local/lib/python3.7/dist-packages (from huggingface-hub<1.0.0,>=0.1.0->datasets) (6.0)\n",
            "Requirement already satisfied: typing-extensions>=3.7.4.3 in /usr/local/lib/python3.7/dist-packages (from huggingface-hub<1.0.0,>=0.1.0->datasets) (3.10.0.2)\n",
            "Requirement already satisfied: filelock in /usr/local/lib/python3.7/dist-packages (from huggingface-hub<1.0.0,>=0.1.0->datasets) (3.6.0)\n",
            "Requirement already satisfied: pyparsing!=3.0.5,>=2.0.2 in /usr/local/lib/python3.7/dist-packages (from packaging->datasets) (3.0.7)\n",
            "Requirement already satisfied: urllib3!=1.25.0,!=1.25.1,<1.26,>=1.21.1 in /usr/local/lib/python3.7/dist-packages (from requests>=2.19.0->datasets) (1.25.11)\n",
            "Requirement already satisfied: certifi>=2017.4.17 in /usr/local/lib/python3.7/dist-packages (from requests>=2.19.0->datasets) (2021.10.8)\n",
            "Requirement already satisfied: chardet<4,>=3.0.2 in /usr/local/lib/python3.7/dist-packages (from requests>=2.19.0->datasets) (3.0.4)\n",
            "Requirement already satisfied: idna<3,>=2.5 in /usr/local/lib/python3.7/dist-packages (from requests>=2.19.0->datasets) (2.10)\n",
            "Requirement already satisfied: yarl<2.0,>=1.0 in /usr/local/lib/python3.7/dist-packages (from aiohttp->datasets) (1.7.2)\n",
            "Requirement already satisfied: async-timeout<5.0,>=4.0.0a3 in /usr/local/lib/python3.7/dist-packages (from aiohttp->datasets) (4.0.2)\n",
            "Requirement already satisfied: multidict<7.0,>=4.5 in /usr/local/lib/python3.7/dist-packages (from aiohttp->datasets) (6.0.2)\n",
            "Requirement already satisfied: frozenlist>=1.1.1 in /usr/local/lib/python3.7/dist-packages (from aiohttp->datasets) (1.3.0)\n",
            "Requirement already satisfied: attrs>=17.3.0 in /usr/local/lib/python3.7/dist-packages (from aiohttp->datasets) (21.4.0)\n",
            "Requirement already satisfied: charset-normalizer<3.0,>=2.0 in /usr/local/lib/python3.7/dist-packages (from aiohttp->datasets) (2.0.12)\n",
            "Requirement already satisfied: asynctest==0.13.0 in /usr/local/lib/python3.7/dist-packages (from aiohttp->datasets) (0.13.0)\n",
            "Requirement already satisfied: aiosignal>=1.1.2 in /usr/local/lib/python3.7/dist-packages (from aiohttp->datasets) (1.2.0)\n",
            "Requirement already satisfied: zipp>=0.5 in /usr/local/lib/python3.7/dist-packages (from importlib-metadata->datasets) (3.7.0)\n",
            "Requirement already satisfied: pytz>=2017.3 in /usr/local/lib/python3.7/dist-packages (from pandas->datasets) (2018.9)\n",
            "Requirement already satisfied: python-dateutil>=2.7.3 in /usr/local/lib/python3.7/dist-packages (from pandas->datasets) (2.8.2)\n",
            "Requirement already satisfied: six>=1.5 in /usr/local/lib/python3.7/dist-packages (from python-dateutil>=2.7.3->pandas->datasets) (1.15.0)\n"
          ]
        }
      ],
      "source": [
        "#installing hugging face dataset library\n",
        "!pip install datasets"
      ]
    },
    {
      "cell_type": "code",
      "source": [
        "# imports\n",
        "import nltk\n",
        "nltk.download('punkt')\n",
        "nltk.download('stopwords')\n",
        "nltk.download('wordnet')\n",
        "from datasets import load_dataset"
      ],
      "metadata": {
        "id": "aQLj_38p4uVx",
        "colab": {
          "base_uri": "https://localhost:8080/"
        },
        "outputId": "08ae2c25-68c4-4632-ff19-1d86d393243c"
      },
      "execution_count": 46,
      "outputs": [
        {
          "output_type": "stream",
          "name": "stdout",
          "text": [
            "[nltk_data] Downloading package punkt to /root/nltk_data...\n",
            "[nltk_data]   Package punkt is already up-to-date!\n",
            "[nltk_data] Downloading package stopwords to /root/nltk_data...\n",
            "[nltk_data]   Package stopwords is already up-to-date!\n",
            "[nltk_data] Downloading package wordnet to /root/nltk_data...\n",
            "[nltk_data]   Package wordnet is already up-to-date!\n"
          ]
        }
      ]
    },
    {
      "cell_type": "code",
      "source": [
        "#Loading dataset\n",
        "dataset = load_dataset('ccdv/cnn_dailymail', '3.0.0')"
      ],
      "metadata": {
        "id": "_adnzWSZ4b_x",
        "colab": {
          "base_uri": "https://localhost:8080/",
          "height": 67,
          "referenced_widgets": [
            "eca49326b3ea48dfa70da6476e94c783",
            "6915954a233649499cb9dac0bb72660c",
            "7653d1141ce8401dacb88ca868ecb644",
            "5b0528dd69fb44c7b213acf6ec683cf1",
            "44a24deeb6c3443685b92ff2ad8757cf",
            "2797c9815baf44c691517880bc292cd0",
            "60d31d32c7f14be9b0b09d6ee07a0e5f",
            "035df749546e4fcd818ff9de912a8c35",
            "6ca77d8e24044388a8d3120800320d1e",
            "2e68175504394bb1b35aedf8240ba9da",
            "debab9974f024c7692fe7dbc7b4426e9"
          ]
        },
        "outputId": "079a5d93-e5aa-4342-fd08-e3570e9a45ed"
      },
      "execution_count": 47,
      "outputs": [
        {
          "output_type": "stream",
          "name": "stderr",
          "text": [
            "Reusing dataset cnn_dailymail (/root/.cache/huggingface/datasets/ccdv___cnn_dailymail/3.0.0/3.0.0/0107f7388b5c6fae455a5661bcd134fc22da53ea75852027040d8d1e997f101f)\n"
          ]
        },
        {
          "output_type": "display_data",
          "data": {
            "text/plain": [
              "  0%|          | 0/3 [00:00<?, ?it/s]"
            ],
            "application/vnd.jupyter.widget-view+json": {
              "version_major": 2,
              "version_minor": 0,
              "model_id": "eca49326b3ea48dfa70da6476e94c783"
            }
          },
          "metadata": {}
        }
      ]
    },
    {
      "cell_type": "code",
      "source": [
        "#splitting train and test sets\n",
        "df_train = dataset['train']\n",
        "df_test = dataset['test']['article']\n",
        "print(len(df_train))\n",
        "print(len(df_test))"
      ],
      "metadata": {
        "colab": {
          "base_uri": "https://localhost:8080/"
        },
        "id": "__n_BPpy4wJX",
        "outputId": "679d2094-a5c1-4ad1-92f2-bdd83d817e93"
      },
      "execution_count": 48,
      "outputs": [
        {
          "output_type": "stream",
          "name": "stdout",
          "text": [
            "287113\n",
            "11490\n"
          ]
        }
      ]
    },
    {
      "cell_type": "code",
      "source": [
        "#sample item in dataset\n",
        "text = df_train[0]['article']\n",
        "text"
      ],
      "metadata": {
        "id": "kwkOACzj5Fgn",
        "colab": {
          "base_uri": "https://localhost:8080/",
          "height": 109
        },
        "outputId": "baf64bf8-6daf-49b4-c03f-8f254377f95d"
      },
      "execution_count": 49,
      "outputs": [
        {
          "output_type": "execute_result",
          "data": {
            "text/plain": [
              "'It\\'s official: U.S. President Barack Obama wants lawmakers to weigh in on whether to use military force in Syria. Obama sent a letter to the heads of the House and Senate on Saturday night, hours after announcing that he believes military action against Syrian targets is the right step to take over the alleged use of chemical weapons. The proposed legislation from Obama asks Congress to approve the use of military force \"to deter, disrupt, prevent and degrade the potential for future uses of chemical weapons or other weapons of mass destruction.\" It\\'s a step that is set to turn an international crisis into a fierce domestic political battle. There are key questions looming over the debate: What did U.N. weapons inspectors find in Syria? What happens if Congress votes no? And how will the Syrian government react? In a televised address from the White House Rose Garden earlier Saturday, the president said he would take his case to Congress, not because he has to -- but because he wants to. \"While I believe I have the authority to carry out this military action without specific congressional authorization, I know that the country will be stronger if we take this course, and our actions will be even more effective,\" he said. \"We should have this debate, because the issues are too big for business as usual.\" Obama said top congressional leaders had agreed to schedule a debate when the body returns to Washington on September 9. The Senate Foreign Relations Committee will hold a hearing over the matter on Tuesday, Sen. Robert Menendez said. Transcript: Read Obama\\'s full remarks . Syrian crisis: Latest developments . U.N. inspectors leave Syria . Obama\\'s remarks came shortly after U.N. inspectors left Syria, carrying evidence that will determine whether chemical weapons were used in an attack early last week in a Damascus suburb. \"The aim of the game here, the mandate, is very clear -- and that is to ascertain whether chemical weapons were used -- and not by whom,\" U.N. spokesman Martin Nesirky told reporters on Saturday. But who used the weapons in the reported toxic gas attack in a Damascus suburb on August 21 has been a key point of global debate over the Syrian crisis. Top U.S. officials have said there\\'s no doubt that the Syrian government was behind it, while Syrian officials have denied responsibility and blamed jihadists fighting with the rebels. British and U.S. intelligence reports say the attack involved chemical weapons, but U.N. officials have stressed the importance of waiting for an official report from inspectors. The inspectors will share their findings with U.N. Secretary-General Ban Ki-moon Ban, who has said he wants to wait until the U.N. team\\'s final report is completed before presenting it to the U.N. Security Council. The Organization for the Prohibition of Chemical Weapons, which nine of the inspectors belong to, said Saturday that it could take up to three weeks to analyze the evidence they collected. \"It needs time to be able to analyze the information and the samples,\" Nesirky said. He noted that Ban has repeatedly said there is no alternative to a political solution to the crisis in Syria, and that \"a military solution is not an option.\" Bergen:  Syria is a problem from hell for the U.S. Obama: \\'This menace must be confronted\\' Obama\\'s senior advisers have debated the next steps to take, and the president\\'s comments Saturday came amid mounting political pressure over the situation in Syria. Some U.S. lawmakers have called for immediate action while others warn of stepping into what could become a quagmire. Some global leaders have expressed support, but the British Parliament\\'s vote against military action earlier this week was a blow to Obama\\'s hopes of getting strong backing from key NATO allies. On Saturday, Obama proposed what he said would be a limited military action against Syrian President Bashar al-Assad. Any military attack would not be open-ended or include U.S. ground forces, he said. Syria\\'s alleged use of chemical weapons earlier this month \"is an assault on human dignity,\" the president said. A failure to respond with force, Obama argued,  \"could lead to escalating use of chemical weapons or their proliferation to terrorist groups who would do our people harm. In a world with many dangers, this menace must be confronted.\" Syria missile strike: What would happen next? Map: U.S. and allied assets around Syria . Obama decision came Friday night . On Friday night, the president made a last-minute decision to consult lawmakers. What will happen if they vote no? It\\'s unclear. A senior administration official told CNN that Obama has the authority to act without Congress -- even if Congress rejects his request for authorization to use force. Obama on Saturday continued to shore up support for a strike on the al-Assad government. He spoke by phone with French President Francois Hollande before his Rose Garden speech. \"The two leaders agreed that the international community must deliver a resolute message to the Assad regime -- and others who would consider using chemical weapons -- that these crimes are unacceptable and those who violate this international norm will be held accountable by the world,\" the White House said. Meanwhile, as uncertainty loomed over how Congress would weigh in, U.S. military officials said they remained at the ready. 5 key assertions: U.S. intelligence report on Syria . Syria: Who wants what after chemical weapons horror . Reactions mixed to Obama\\'s speech . A spokesman for the Syrian National Coalition said that the opposition group was disappointed by Obama\\'s announcement. \"Our fear now is that the lack of action could embolden the regime and they repeat his attacks in a more serious way,\" said spokesman Louay Safi. \"So we are quite concerned.\" Some members of Congress applauded Obama\\'s decision. House Speaker John Boehner, Majority Leader Eric Cantor, Majority Whip Kevin McCarthy and Conference Chair Cathy McMorris Rodgers issued a statement Saturday praising the president. \"Under the Constitution, the responsibility to declare war lies with Congress,\" the Republican lawmakers said. \"We are glad the president is seeking authorization for any military action in Syria in response to serious, substantive questions being raised.\" More than 160 legislators, including 63 of Obama\\'s fellow Democrats, had signed letters calling for either a vote or at least a \"full debate\" before any U.S. action. British Prime Minister David Cameron, whose own attempt to get lawmakers in his country to support military action in Syria failed earlier this week, responded to Obama\\'s speech in a Twitter post Saturday. \"I understand and support Barack Obama\\'s position on Syria,\" Cameron said. An influential lawmaker in Russia -- which has stood by Syria and criticized the United States -- had his own theory. \"The main reason Obama is turning to the Congress:  the military operation did not get enough support either in the world, among allies of the US or in the United States itself,\" Alexei Pushkov, chairman of the international-affairs committee of the Russian State Duma, said in a Twitter post. In the United States, scattered groups of anti-war protesters around the country took to the streets Saturday. \"Like many other Americans...we\\'re just tired of the United States getting involved and invading and bombing other countries,\" said Robin Rosecrans, who was among hundreds at a Los Angeles demonstration. What do Syria\\'s neighbors think? Why Russia, China, Iran stand by Assad . Syria\\'s government unfazed . After Obama\\'s speech, a military and political analyst on Syrian state TV said Obama is \"embarrassed\" that Russia opposes military action against Syria, is \"crying for help\" for someone to come to his rescue and is facing two defeats -- on the political and military levels. Syria\\'s prime minister appeared unfazed by the saber-rattling. \"The Syrian Army\\'s status is on maximum readiness and fingers are on the trigger to confront all challenges,\" Wael Nader al-Halqi said during a meeting with a delegation of Syrian expatriates from Italy, according to a banner on Syria State TV that was broadcast prior to Obama\\'s address. An anchor on Syrian state television said Obama \"appeared to be preparing for an aggression on Syria based on repeated lies.\" A top Syrian diplomat told the state television network that Obama was facing pressure to take military action from Israel, Turkey, some Arabs and right-wing extremists in the United States. \"I think he has done well by doing what Cameron did in terms of taking the issue to Parliament,\" said Bashar Jaafari, Syria\\'s ambassador to the United Nations. Both Obama and Cameron, he said, \"climbed to the top of the tree and don\\'t know how to get down.\" The Syrian government has denied that it used chemical weapons in the August 21 attack, saying that jihadists fighting with the rebels used them in an effort to turn global sentiments against it. British intelligence had put the number of people killed in the attack at more than 350. On Saturday, Obama said \"all told, well over 1,000 people were murdered.\" U.S. Secretary of State John Kerry on Friday cited a death toll of 1,429, more than 400 of them children. No explanation was offered for the discrepancy. Iran: U.S. military action in Syria would spark \\'disaster\\' Opinion: Why strikes in Syria are a bad idea .'"
            ],
            "application/vnd.google.colaboratory.intrinsic+json": {
              "type": "string"
            }
          },
          "metadata": {},
          "execution_count": 49
        }
      ]
    },
    {
      "cell_type": "markdown",
      "source": [
        "### Tokenization\n",
        "In this step, the text is split into smaller units. We can use either sentence tokenization or word tokenization based on our problem statement"
      ],
      "metadata": {
        "id": "s0Fe78J0vCZJ"
      }
    },
    {
      "cell_type": "code",
      "source": [
        "## Sentence Tokensing\n",
        "from nltk.tokenize import sent_tokenize\n",
        "\n",
        "text_tokens = sent_tokenize(text)\n",
        "org_text = text_tokens.copy()\n",
        "print(len(text_tokens))\n",
        "text_tokens[0]"
      ],
      "metadata": {
        "colab": {
          "base_uri": "https://localhost:8080/",
          "height": 54
        },
        "id": "eF75Cgyx-Dp3",
        "outputId": "f4d6fb2e-c37a-480e-82c4-c082cfe91c68"
      },
      "execution_count": 50,
      "outputs": [
        {
          "output_type": "stream",
          "name": "stdout",
          "text": [
            "76\n"
          ]
        },
        {
          "output_type": "execute_result",
          "data": {
            "text/plain": [
              "\"It's official: U.S. President Barack Obama wants lawmakers to weigh in on whether to use military force in Syria.\""
            ],
            "application/vnd.google.colaboratory.intrinsic+json": {
              "type": "string"
            }
          },
          "metadata": {},
          "execution_count": 50
        }
      ]
    },
    {
      "cell_type": "markdown",
      "source": [
        "### Puncuation Removal\n",
        "In this step, all the punctuations from the text are removed. string library of Python contains some pre-defined list of punctuations such as ‘!”#$%&'()*+,-./:;?@[\\]^_`{|}~’\n",
        "}~’"
      ],
      "metadata": {
        "id": "LffiBkeEu0KY"
      }
    },
    {
      "cell_type": "code",
      "source": [
        "# Removing pucuations\n",
        "import string\n",
        "\n",
        "def remove_punctuation(text):\n",
        "    return \"\".join([i for  i in text if i not in string.punctuation])\n",
        "\n",
        "for i in range(len(text_tokens)):\n",
        "    text_tokens[i] = remove_punctuation(text_tokens[i])\n",
        "\n",
        "\n",
        "text_tokens[0]"
      ],
      "metadata": {
        "colab": {
          "base_uri": "https://localhost:8080/",
          "height": 35
        },
        "id": "V2tO_jwgEath",
        "outputId": "dc1ed29a-618a-464e-ae93-f8093e5a92fb"
      },
      "execution_count": 51,
      "outputs": [
        {
          "output_type": "execute_result",
          "data": {
            "text/plain": [
              "'Its official US President Barack Obama wants lawmakers to weigh in on whether to use military force in Syria'"
            ],
            "application/vnd.google.colaboratory.intrinsic+json": {
              "type": "string"
            }
          },
          "metadata": {},
          "execution_count": 51
        }
      ]
    },
    {
      "cell_type": "markdown",
      "source": [
        ""
      ],
      "metadata": {
        "id": "ZFqdI6HMukKS"
      }
    },
    {
      "cell_type": "markdown",
      "metadata": {
        "id": "1GewJqPYHRZb"
      },
      "source": [
        "### Stop word Removal\n",
        "Stopwords are the commonly used words and are removed from the text as they do not add any value to the analysis. These words carry less or no meaning."
      ]
    },
    {
      "cell_type": "code",
      "source": [
        "# removing stop words\n",
        "from nltk.corpus import stopwords\n",
        "stop_words = set(stopwords.words('english'))\n",
        "\n",
        "new_text_tokens = []\n",
        "\n",
        "for sentence in text_tokens:\n",
        "    temp = \" \".join([w for w in sentence.split() if not w.lower() in stop_words])\n",
        "    new_text_tokens.append(temp)\n",
        "\n",
        "text_tokens = new_text_tokens\n",
        "text_tokens[0]"
      ],
      "metadata": {
        "colab": {
          "base_uri": "https://localhost:8080/",
          "height": 35
        },
        "id": "s5WXqAuy_c1J",
        "outputId": "dc6b265c-9935-4c7f-9043-d2f392a1c7af"
      },
      "execution_count": 52,
      "outputs": [
        {
          "output_type": "execute_result",
          "data": {
            "text/plain": [
              "'official US President Barack Obama wants lawmakers weigh whether use military force Syria'"
            ],
            "application/vnd.google.colaboratory.intrinsic+json": {
              "type": "string"
            }
          },
          "metadata": {},
          "execution_count": 52
        }
      ]
    },
    {
      "cell_type": "markdown",
      "source": [
        "### Lemmatization\n",
        "It stems the word but makes sure that it does not lose its meaning.  Lemmatization has a pre-defined dictionary that stores the context of words and checks the word in the dictionary while diminishing.\n"
      ],
      "metadata": {
        "id": "hgQ7Z3lrus1y"
      }
    },
    {
      "cell_type": "code",
      "source": [
        "# Lemmatization\n",
        "from nltk.stem import WordNetLemmatizer\n",
        "wordnet_lemmatizer = WordNetLemmatizer()\n",
        "\n",
        "def lemmatize(text):\n",
        "    lemm_text = [wordnet_lemmatizer.lemmatize(word) for word in text]\n",
        "    return \"\".join(lemm_text)\n",
        "\n",
        "for i in range(len(text_tokens)):\n",
        "    text_tokens[i] = lemmatize(text_tokens[i])\n"
      ],
      "metadata": {
        "id": "ukpykzYgBFRI"
      },
      "execution_count": 53,
      "outputs": []
    },
    {
      "cell_type": "code",
      "source": [
        ""
      ],
      "metadata": {
        "id": "u0OXGBTBIZ_y"
      },
      "execution_count": 53,
      "outputs": []
    },
    {
      "cell_type": "markdown",
      "source": [
        "## Creating Sentence vectors"
      ],
      "metadata": {
        "id": "6rLWFifhZv8M"
      }
    },
    {
      "cell_type": "code",
      "source": [
        "!pip install sentence-transformers"
      ],
      "metadata": {
        "colab": {
          "base_uri": "https://localhost:8080/"
        },
        "id": "FGgJHPUCVG39",
        "outputId": "b9acc14b-fa5a-4db9-c2c4-da759aac033c"
      },
      "execution_count": 54,
      "outputs": [
        {
          "output_type": "stream",
          "name": "stdout",
          "text": [
            "Requirement already satisfied: sentence-transformers in /usr/local/lib/python3.7/dist-packages (2.2.0)\n",
            "Requirement already satisfied: torch>=1.6.0 in /usr/local/lib/python3.7/dist-packages (from sentence-transformers) (1.10.0+cu111)\n",
            "Requirement already satisfied: sentencepiece in /usr/local/lib/python3.7/dist-packages (from sentence-transformers) (0.1.96)\n",
            "Requirement already satisfied: transformers<5.0.0,>=4.6.0 in /usr/local/lib/python3.7/dist-packages (from sentence-transformers) (4.17.0)\n",
            "Requirement already satisfied: scikit-learn in /usr/local/lib/python3.7/dist-packages (from sentence-transformers) (1.0.2)\n",
            "Requirement already satisfied: tqdm in /usr/local/lib/python3.7/dist-packages (from sentence-transformers) (4.63.0)\n",
            "Requirement already satisfied: huggingface-hub in /usr/local/lib/python3.7/dist-packages (from sentence-transformers) (0.4.0)\n",
            "Requirement already satisfied: torchvision in /usr/local/lib/python3.7/dist-packages (from sentence-transformers) (0.11.1+cu111)\n",
            "Requirement already satisfied: numpy in /usr/local/lib/python3.7/dist-packages (from sentence-transformers) (1.21.5)\n",
            "Requirement already satisfied: scipy in /usr/local/lib/python3.7/dist-packages (from sentence-transformers) (1.4.1)\n",
            "Requirement already satisfied: nltk in /usr/local/lib/python3.7/dist-packages (from sentence-transformers) (3.2.5)\n",
            "Requirement already satisfied: typing-extensions in /usr/local/lib/python3.7/dist-packages (from torch>=1.6.0->sentence-transformers) (3.10.0.2)\n",
            "Requirement already satisfied: sacremoses in /usr/local/lib/python3.7/dist-packages (from transformers<5.0.0,>=4.6.0->sentence-transformers) (0.0.47)\n",
            "Requirement already satisfied: filelock in /usr/local/lib/python3.7/dist-packages (from transformers<5.0.0,>=4.6.0->sentence-transformers) (3.6.0)\n",
            "Requirement already satisfied: tokenizers!=0.11.3,>=0.11.1 in /usr/local/lib/python3.7/dist-packages (from transformers<5.0.0,>=4.6.0->sentence-transformers) (0.11.6)\n",
            "Requirement already satisfied: regex!=2019.12.17 in /usr/local/lib/python3.7/dist-packages (from transformers<5.0.0,>=4.6.0->sentence-transformers) (2019.12.20)\n",
            "Requirement already satisfied: packaging>=20.0 in /usr/local/lib/python3.7/dist-packages (from transformers<5.0.0,>=4.6.0->sentence-transformers) (21.3)\n",
            "Requirement already satisfied: importlib-metadata in /usr/local/lib/python3.7/dist-packages (from transformers<5.0.0,>=4.6.0->sentence-transformers) (4.11.2)\n",
            "Requirement already satisfied: requests in /usr/local/lib/python3.7/dist-packages (from transformers<5.0.0,>=4.6.0->sentence-transformers) (2.23.0)\n",
            "Requirement already satisfied: pyyaml>=5.1 in /usr/local/lib/python3.7/dist-packages (from transformers<5.0.0,>=4.6.0->sentence-transformers) (6.0)\n",
            "Requirement already satisfied: pyparsing!=3.0.5,>=2.0.2 in /usr/local/lib/python3.7/dist-packages (from packaging>=20.0->transformers<5.0.0,>=4.6.0->sentence-transformers) (3.0.7)\n",
            "Requirement already satisfied: zipp>=0.5 in /usr/local/lib/python3.7/dist-packages (from importlib-metadata->transformers<5.0.0,>=4.6.0->sentence-transformers) (3.7.0)\n",
            "Requirement already satisfied: six in /usr/local/lib/python3.7/dist-packages (from nltk->sentence-transformers) (1.15.0)\n",
            "Requirement already satisfied: chardet<4,>=3.0.2 in /usr/local/lib/python3.7/dist-packages (from requests->transformers<5.0.0,>=4.6.0->sentence-transformers) (3.0.4)\n",
            "Requirement already satisfied: idna<3,>=2.5 in /usr/local/lib/python3.7/dist-packages (from requests->transformers<5.0.0,>=4.6.0->sentence-transformers) (2.10)\n",
            "Requirement already satisfied: certifi>=2017.4.17 in /usr/local/lib/python3.7/dist-packages (from requests->transformers<5.0.0,>=4.6.0->sentence-transformers) (2021.10.8)\n",
            "Requirement already satisfied: urllib3!=1.25.0,!=1.25.1,<1.26,>=1.21.1 in /usr/local/lib/python3.7/dist-packages (from requests->transformers<5.0.0,>=4.6.0->sentence-transformers) (1.25.11)\n",
            "Requirement already satisfied: click in /usr/local/lib/python3.7/dist-packages (from sacremoses->transformers<5.0.0,>=4.6.0->sentence-transformers) (7.1.2)\n",
            "Requirement already satisfied: joblib in /usr/local/lib/python3.7/dist-packages (from sacremoses->transformers<5.0.0,>=4.6.0->sentence-transformers) (1.1.0)\n",
            "Requirement already satisfied: threadpoolctl>=2.0.0 in /usr/local/lib/python3.7/dist-packages (from scikit-learn->sentence-transformers) (3.1.0)\n",
            "Requirement already satisfied: pillow!=8.3.0,>=5.3.0 in /usr/local/lib/python3.7/dist-packages (from torchvision->sentence-transformers) (7.1.2)\n"
          ]
        }
      ]
    },
    {
      "cell_type": "code",
      "source": [
        "from sentence_transformers import SentenceTransformer\n",
        "sbert_model = SentenceTransformer('bert-base-nli-mean-tokens')"
      ],
      "metadata": {
        "id": "dcxqESW4ZyMt"
      },
      "execution_count": 55,
      "outputs": []
    },
    {
      "cell_type": "code",
      "source": [
        "\n",
        "sentence_embeddings = sbert_model.encode(text_tokens)\n",
        "\n",
        "print('Sample BERT embedding vector - length', len(sentence_embeddings[0]))\n",
        "print('Sample BERT embedding vector', sentence_embeddings[0])"
      ],
      "metadata": {
        "colab": {
          "base_uri": "https://localhost:8080/"
        },
        "id": "JU-VkdQfTbYn",
        "outputId": "5b1b2977-eff0-4e88-fd89-92e00f0fff2f"
      },
      "execution_count": 56,
      "outputs": [
        {
          "output_type": "stream",
          "name": "stdout",
          "text": [
            "Sample BERT embedding vector - length 768\n",
            "Sample BERT embedding vector [ 1.92461312e-01  4.73752707e-01 -3.91261071e-01  1.08960591e-01\n",
            "  5.23253977e-01 -5.32883555e-02 -1.89605772e-01 -4.30334896e-01\n",
            "  6.06365263e-01 -1.19935966e+00 -1.21604227e-01  6.89616203e-01\n",
            "  1.08257778e-01  4.31654751e-01 -7.94367790e-01  5.93337417e-01\n",
            " -2.29677305e-01  5.29686585e-02  5.07118821e-01  1.71185672e-01\n",
            "  1.17934681e-01  2.07671925e-01  4.29090798e-01 -4.22741920e-02\n",
            "  9.46290791e-01  2.19076976e-01  1.42234460e-01  3.67688566e-01\n",
            " -4.28213477e-01  2.28824526e-01 -2.49624014e-01 -1.07838444e-01\n",
            " -9.14908171e-01 -1.62466526e-01 -1.18347473e-01  8.89864326e-01\n",
            "  2.78020382e-01  1.85750410e-01  1.31621346e-01 -3.78553599e-01\n",
            " -9.91683960e-01 -9.08171892e-01 -4.31626678e-01  1.27131775e-01\n",
            " -8.25744569e-01 -7.28055120e-01  6.90432250e-01  7.17395902e-01\n",
            " -2.55336583e-01 -1.05166304e+00  2.07867369e-01  6.85787678e-01\n",
            "  4.09891337e-01 -8.54549557e-02 -1.52421579e-01  1.03981420e-01\n",
            " -2.83232015e-02 -1.19109881e+00 -3.71664375e-01 -5.54379821e-01\n",
            " -9.55486357e-01  3.67086411e-01  4.96019512e-01  5.06208718e-01\n",
            " -4.86933962e-02 -2.38189653e-01 -6.58927441e-01 -1.24892127e-02\n",
            " -1.16193676e+00 -1.21201658e+00 -7.71720767e-01 -8.85374904e-01\n",
            " -1.23073173e+00  3.73028427e-01  7.70242333e-01 -2.14179739e-01\n",
            "  2.61592299e-01  6.88477635e-01  6.68171048e-01  3.87879342e-01\n",
            " -4.06712145e-01  2.99110264e-01 -2.27204226e-02 -3.87301147e-01\n",
            "  3.74339893e-02  7.41327941e-01  9.81188893e-01  3.73415977e-01\n",
            "  1.61919549e-01 -2.62206703e-01  9.41097260e-01  2.15210825e-01\n",
            " -5.05832195e-01 -1.56462640e-01 -3.57669652e-01 -4.40571547e-01\n",
            "  1.00511360e+00 -4.13534015e-01 -3.18723440e-01  3.12813699e-01\n",
            "  4.99881566e-01 -6.79134130e-01  5.94303794e-02  8.20796490e-02\n",
            " -1.57401890e-01 -3.60322267e-01 -1.84405103e-01 -1.00557017e+00\n",
            "  1.13394909e-01 -1.18613698e-01  1.25563741e+00  1.61597759e-01\n",
            "  1.71685264e-01 -5.30936897e-01 -1.63646683e-01  1.74126178e-01\n",
            " -8.47065926e-01  7.64311910e-01  6.55816257e-01  1.17393994e+00\n",
            "  2.55402088e-01  2.85922587e-01 -3.35664898e-01 -3.49086165e-01\n",
            "  4.26446408e-01  3.09740901e-02  1.07501876e+00  8.05951118e-01\n",
            " -2.10489488e+00 -1.32925108e-01  7.33455062e-01  6.73219502e-01\n",
            "  6.63988590e-01 -6.19684875e-01 -5.56103349e-01  2.40142748e-01\n",
            "  7.53146410e-01 -1.14069569e+00  6.36912942e-01  4.56243694e-01\n",
            "  1.00022145e-01 -3.02632064e-01  6.09003246e-01 -1.66688108e+00\n",
            " -5.90158761e-01 -5.51580250e-01  5.86769521e-01 -2.15240687e-01\n",
            "  1.18130669e-01  1.23855948e-01  3.98246497e-01 -4.48619604e-01\n",
            "  3.72458398e-02  8.30058098e-01 -7.09330320e-01 -8.94818127e-01\n",
            " -2.88602322e-01 -7.51242936e-02 -2.54706480e-02  4.13475931e-01\n",
            "  1.33700177e-01 -1.98115289e-01  6.26863241e-01  2.11023584e-01\n",
            "  7.43385851e-01  1.45663857e-01  6.33600891e-01 -4.43956286e-01\n",
            "  2.40959957e-01 -4.22269464e-01 -2.62732983e-01  3.94517154e-01\n",
            "  2.13444424e+00  3.17951739e-02  2.40543485e+00  3.03627700e-01\n",
            "  3.09285492e-01  5.39478540e-01 -2.18007118e-01  2.43441135e-01\n",
            " -3.44494790e-01 -1.85079381e-01 -1.13106489e+00  8.51107419e-01\n",
            "  2.54435003e-01 -5.22882640e-01  5.30832484e-02 -5.45372605e-01\n",
            " -9.97074395e-02 -2.70364434e-01 -6.00859970e-02 -5.62937558e-01\n",
            " -1.87387019e-02  7.18227774e-02 -4.03407067e-02 -1.62545756e-01\n",
            " -7.29193985e-01  8.43576193e-01  8.36245343e-03  3.07764739e-01\n",
            "  6.79038540e-02 -2.38822028e-01  9.86960053e-01 -2.25981295e-01\n",
            " -9.22090828e-01  3.66488308e-01  4.85211253e-01  4.96291250e-01\n",
            " -5.93825221e-01  4.78206605e-01 -1.85261384e-01 -2.16195017e-01\n",
            " -6.06610537e-01  7.15180784e-02  1.68835729e-01  8.62308815e-02\n",
            "  2.54665524e-01 -2.26273030e-01  9.99793261e-02  7.39317179e-01\n",
            "  4.57214117e-01 -5.84817678e-03  2.32023336e-02  4.02397603e-01\n",
            " -8.13659668e-01 -2.63748467e-01  4.22310412e-01 -4.62834015e-02\n",
            " -7.46784210e-01  1.04450274e+00  3.47985327e-01  5.48539519e-01\n",
            " -7.50836909e-01 -6.13313079e-01 -5.01836658e-01 -3.16875160e-01\n",
            " -1.84012270e+00 -3.79066169e-01  1.03240156e+00 -5.20629227e-01\n",
            " -3.65630507e-01  2.64439464e-01  4.40125018e-01  2.88484037e-01\n",
            "  7.18618333e-02 -7.99007297e-01  1.03346574e+00 -1.93974748e-01\n",
            "  2.17187285e-01 -2.09002167e-01 -1.54352844e+00  6.27570134e-03\n",
            "  7.86287844e-01 -4.33369219e-01 -7.99817681e-01 -5.23875177e-01\n",
            "  6.30307138e-01  1.18460310e+00 -2.43251055e-01 -4.36193824e-01\n",
            " -1.80645630e-01  7.53887713e-01  8.30192640e-02  2.84454107e-01\n",
            "  3.65757316e-01 -7.48460472e-01 -8.18010271e-01  4.12856251e-01\n",
            " -8.98957968e-01  4.87250298e-01  6.08284533e-01 -5.07820249e-01\n",
            " -6.85468972e-01  8.34472895e-01  2.47011423e-01 -4.22133416e-01\n",
            " -4.75617982e-02  1.23142436e-01 -2.46118173e-01  7.17345238e-01\n",
            "  9.85808671e-01  3.23120683e-01 -9.45176780e-01  4.62897196e-02\n",
            " -9.13354874e-01  8.00791681e-02  2.92906731e-01 -9.56513286e-01\n",
            "  2.03724369e-01  1.65069878e-01 -3.92001271e-01 -1.24936894e-01\n",
            "  3.07437599e-01  1.96139008e-01  5.43498993e-01 -3.74356568e-01\n",
            "  3.51645947e-01 -7.91520119e-01  8.14439356e-01 -3.18702728e-01\n",
            " -1.66508406e-01  5.07006466e-01 -3.14956069e-01  6.76037550e-01\n",
            " -2.31782109e-01 -6.79587349e-02  2.88351655e-01 -8.11153278e-02\n",
            "  7.41066039e-03 -7.61509538e-01 -8.58521402e-01 -1.07674658e+00\n",
            "  4.00365621e-01  1.52261734e+00 -8.37190226e-02 -7.17066586e-01\n",
            " -4.98152077e-02 -1.04321861e+00 -2.11799487e-01 -4.74392056e-01\n",
            " -3.09323788e-01 -4.46838737e-01 -1.00622915e-01  2.69105025e-02\n",
            "  8.07876170e-01 -9.88641918e-01 -1.59379303e-01  9.29616570e-01\n",
            "  5.79402372e-02  2.39208519e-01  1.04424858e+00 -2.60522634e-01\n",
            "  9.43149686e-01 -4.17350829e-01  5.86325228e-01 -1.03071280e-01\n",
            "  4.57276642e-01 -1.03849657e-01  5.32670736e-01 -5.81270814e-01\n",
            "  1.22759163e+00 -5.90084612e-01 -4.39482540e-01  4.55170602e-01\n",
            "  8.65319967e-02 -7.49954283e-01 -7.68903345e-02  3.01084787e-01\n",
            " -5.91219306e-01  2.52246082e-01  5.73906004e-01 -3.10279280e-01\n",
            "  2.56399274e-01  3.45477581e-01 -5.86778410e-02 -6.51290357e-01\n",
            " -6.67729259e-01  3.87318552e-01 -7.50087947e-02  1.15348649e+00\n",
            " -6.09251022e-01 -1.93847179e-01 -3.73227000e-01 -8.53001028e-02\n",
            "  2.39647314e-01  2.28597760e-01 -5.02758861e-01 -4.88575250e-01\n",
            "  1.84037074e-01  5.24230719e-01 -7.64063671e-02  6.27367675e-01\n",
            "  4.37700540e-01 -6.08486757e-02  8.41720700e-02  7.49192834e-02\n",
            " -5.86488128e-01 -1.82689443e-01 -2.35388353e-01  3.49509656e-01\n",
            "  2.54846513e-01 -9.17636871e-01  7.57254958e-01 -7.32477844e-01\n",
            "  2.68847436e-01 -5.63563645e-01 -3.41813385e-01  1.61220089e-01\n",
            " -8.29669952e-01 -1.16596207e-01  4.44423676e-01  3.51384401e-01\n",
            " -4.18247521e-01 -3.02973956e-01  1.70633540e-01 -7.01240227e-02\n",
            "  2.11589634e-01  1.91670433e-02  2.19287984e-02 -4.78060871e-01\n",
            " -2.33136997e-01 -1.10170090e+00  1.17441535e+00 -9.06818390e-01\n",
            "  7.23232031e-01  1.24962795e+00  1.57044578e+00  1.53592750e-02\n",
            "  6.82764411e-01 -3.80759567e-01  1.41424254e-01 -6.45936847e-01\n",
            "  7.03954518e-01 -1.31047532e-01  6.65658712e-02  2.46172130e-01\n",
            " -2.77851820e-01 -1.02363563e+00 -8.63414645e-01  2.80116141e-01\n",
            "  5.07158637e-01 -2.22349301e-01 -9.20431241e-02 -1.77467570e-01\n",
            "  6.53055608e-01  1.95174456e+00  3.67521010e-02 -4.39772606e-01\n",
            " -8.00125122e-01  3.29697669e-01  8.17738399e-02 -4.09159839e-01\n",
            " -4.53197151e-01  1.12638438e+00 -6.99390769e-01 -1.78622931e-01\n",
            "  3.41138124e-01  1.06135011e+00  2.89986670e-01 -3.75388205e-01\n",
            " -7.56365001e-01 -3.27841252e-01  8.16273272e-01 -5.10515692e-03\n",
            "  7.78654516e-02  1.50853232e-01 -2.23734573e-01  9.62615252e-01\n",
            "  2.11620867e-01 -3.40947837e-01  9.19964314e-01 -7.00432122e-01\n",
            "  6.49408475e-02  4.94974792e-01  3.17392856e-01  2.36679390e-01\n",
            " -5.13698041e-01 -5.66058218e-01 -2.97695011e-01 -4.19362038e-02\n",
            "  6.77528381e-02 -4.24843848e-01  1.43725768e-01  3.39867741e-01\n",
            "  1.04077518e+00 -1.00918442e-01 -5.06176054e-01 -1.46706986e+00\n",
            " -1.12635911e-01 -2.56224632e-01 -7.32632995e-01 -5.28031699e-02\n",
            "  5.75631797e-01  1.57626581e+00  1.44670919e-01 -1.55648327e+00\n",
            " -8.20499957e-01  6.99813247e-01  7.57885650e-02 -2.07360890e-02\n",
            " -3.03915232e-01 -1.60229698e-01  1.92728832e-01  1.04079914e+00\n",
            " -4.41359580e-02 -6.54554665e-01 -6.69018477e-02  3.28068018e-01\n",
            "  3.21892090e-02 -6.79367185e-01  9.58413407e-02 -4.16391611e-01\n",
            " -4.99665439e-01 -1.10057247e+00  1.98937505e-01 -6.68995857e-01\n",
            " -7.17689991e-01  1.01786077e-01  5.54577172e-01  4.36700851e-01\n",
            "  3.00068874e-02 -1.17301300e-01  7.21079588e-01  2.24921796e-02\n",
            "  4.65389103e-01 -2.89381146e-01  4.94451106e-01 -1.56260893e-01\n",
            "  2.35762984e-01 -6.91113994e-03  2.27412395e-03  9.45783913e-01\n",
            " -3.87834460e-01  9.88666236e-01 -4.67913806e-01  6.05709076e-01\n",
            "  1.08263209e-01  4.58600782e-02 -1.19099081e-01  5.49624003e-02\n",
            "  4.04402465e-01  2.92720050e-01  3.90404701e-01 -7.11602092e-01\n",
            " -4.83411014e-01 -2.53495812e-01 -2.63184346e-02  6.38433576e-01\n",
            "  1.95833147e-01 -3.56878877e-01 -2.42504254e-02  2.50603884e-01\n",
            "  9.24463451e-01  1.02769554e+00 -4.74610656e-01 -9.60935116e-01\n",
            " -8.07528645e-02 -1.31432842e-02  2.68090039e-01 -3.18288177e-01\n",
            "  3.95067900e-01  4.92661983e-01  3.28791589e-01 -4.21485782e-01\n",
            " -1.12730825e+00 -3.85943145e-01 -1.94985382e-02  2.57550240e-01\n",
            " -4.33902740e-01 -9.05383229e-01 -1.19492936e+00 -3.14713299e-01\n",
            " -7.92866051e-02  5.92479825e-01  1.92689002e-01 -1.20299444e-01\n",
            "  2.77901083e-01  6.63954914e-02 -5.88346183e-01  9.62259293e-01\n",
            "  4.54843044e-01  3.61553341e-01 -2.41576448e-01 -9.15696993e-02\n",
            " -1.93291888e-01 -2.95441598e-01 -1.20613039e+00 -4.45420742e-01\n",
            " -6.17923319e-01 -4.15671140e-01  9.33127776e-02  7.81621411e-02\n",
            "  7.16433823e-01 -3.43684107e-01  2.51552433e-01  7.49471560e-02\n",
            "  3.26877445e-01 -3.69959593e-01 -3.16175282e-01 -1.47380799e-01\n",
            "  1.51131499e+00  6.17406130e-01 -3.49020243e-01 -5.04968226e-01\n",
            " -5.67365706e-01  5.39263308e-01  1.52022377e-01  4.75072801e-01\n",
            " -3.82820696e-01  4.34851080e-01 -2.39273682e-01 -3.12243313e-01\n",
            "  1.08653867e+00  3.50020021e-01  1.97493002e-01  4.38793212e-01\n",
            " -1.95810631e-01 -5.24612367e-02  4.38256562e-01 -2.49909550e-01\n",
            " -1.12713136e-01 -1.90293476e-01 -1.20721900e+00  1.59839284e+00\n",
            " -2.96568960e-01  3.07543874e-01 -2.34673887e-01 -8.49420846e-01\n",
            " -7.24386215e-01  2.87278652e-01  1.01491781e-02  2.11325169e-01\n",
            " -2.42557585e-01  4.31147963e-01 -3.27811912e-02 -1.05819136e-01\n",
            " -3.57702196e-01 -7.49463663e-02 -7.62179017e-01 -4.91298884e-01\n",
            "  6.99872851e-01  2.23634019e-02 -3.07752728e-01  5.59911847e-01\n",
            "  4.11326647e-01 -3.14265370e-01 -5.23570120e-01 -8.71018097e-02\n",
            " -1.05769539e+00  1.85513034e-01 -6.30853325e-02 -2.59746760e-01\n",
            " -5.43968454e-02  8.50899220e-02  1.66269392e-01  3.43648404e-01\n",
            " -2.36552373e-01 -3.44897777e-01 -6.16286755e-01  4.26374018e-01\n",
            " -1.48930311e+00  1.74093390e+00  7.60790408e-02  6.72237873e-01\n",
            "  4.38088924e-01 -3.00802410e-01 -6.28364086e-03  5.55189133e-01\n",
            "  2.95994550e-01  8.04444075e-01  9.79814157e-02  6.27540469e-01\n",
            " -4.38593507e-01 -1.18608244e-01 -6.10858917e-01  3.74337807e-02\n",
            " -3.31881978e-02  2.90999383e-01 -2.08575130e-01  9.14852619e-01\n",
            " -2.47952446e-01 -3.29951197e-01  8.24937373e-02 -1.77175533e-02\n",
            "  2.26087809e-01  2.51923144e-01 -1.76831722e-01  5.97360469e-02\n",
            " -4.43023980e-01 -1.26904175e-01 -7.31951669e-02 -5.60964406e-01\n",
            "  6.17371202e-01  4.96982597e-03  1.65087715e-01 -2.58048385e-01\n",
            "  1.55764401e-01 -6.31733179e-01 -2.98796922e-01 -1.22491050e+00\n",
            " -1.27501145e-01 -9.10816431e-01 -3.26442957e-01 -4.45071757e-01\n",
            "  3.28226030e-01 -1.92155629e-01 -4.75143462e-01  3.60010475e-01\n",
            " -1.19710118e-02 -5.52145362e-01  2.12348625e-01 -6.24030866e-02\n",
            " -1.05628610e+00 -6.16975844e-01  5.95791221e-01 -2.78416455e-01\n",
            " -9.98163462e-01 -1.13275915e-01  1.35641498e-03 -3.10434818e-01\n",
            " -1.24704564e+00  5.40542960e-01 -3.06314468e-01 -9.19455886e-01\n",
            "  2.35870779e-01 -1.73120975e-01  4.30892408e-01 -6.90456033e-01\n",
            "  2.65553117e-01 -6.85707510e-01 -8.56017232e-01  3.27103436e-01\n",
            "  2.80642629e-01 -8.81608576e-02 -2.95840859e-01  6.61187470e-01\n",
            " -2.50447035e-01 -1.69986308e-01 -1.64103478e-01 -6.76624179e-01\n",
            " -3.27165991e-01  2.50496656e-01 -9.11027431e-01 -1.28349990e-01\n",
            " -3.85620683e-01 -2.20551014e-01  1.39943731e+00 -2.49230146e-01\n",
            "  1.68173641e-01 -4.46781248e-01 -1.11572707e+00  3.44487056e-02\n",
            "  2.73532599e-01  2.42754087e-01  4.83452260e-01  9.69600558e-01\n",
            "  7.42802620e-01 -2.19220102e-01 -9.63793278e-01 -1.12657738e+00\n",
            " -1.54766425e-01 -6.59783483e-01 -3.53125185e-01  2.06798185e-02\n",
            "  5.02639115e-01  3.80133331e-01 -5.81358433e-01 -2.36569241e-01\n",
            "  2.50252664e-01  1.58659831e-01 -1.67721301e-01 -5.79582900e-02\n",
            "  8.11981440e-01 -2.50606030e-01 -8.00602660e-02  1.88130006e-01\n",
            "  3.22602272e-01  1.33365810e-01 -4.36655842e-02 -9.72128958e-02\n",
            " -1.82747260e-01 -5.12598038e-01 -8.72326568e-02 -6.83774590e-01\n",
            " -2.20670298e-01 -9.17948246e-01 -3.94442584e-03  3.81746471e-01]\n"
          ]
        }
      ]
    },
    {
      "cell_type": "code",
      "source": [
        "len(sentence_embeddings)"
      ],
      "metadata": {
        "colab": {
          "base_uri": "https://localhost:8080/"
        },
        "id": "Et_7HrQpXNd9",
        "outputId": "f700f315-48e3-483a-a55e-faa6085b6aa1"
      },
      "execution_count": 57,
      "outputs": [
        {
          "output_type": "execute_result",
          "data": {
            "text/plain": [
              "76"
            ]
          },
          "metadata": {},
          "execution_count": 57
        }
      ]
    },
    {
      "cell_type": "code",
      "source": [
        ""
      ],
      "metadata": {
        "id": "O8JLQzstXkMG"
      },
      "execution_count": 57,
      "outputs": []
    },
    {
      "cell_type": "markdown",
      "source": [
        "## Clustering using self_organising maps"
      ],
      "metadata": {
        "id": "GO9pzMY1cckL"
      }
    },
    {
      "cell_type": "code",
      "source": [
        "!pip install sklearn-som"
      ],
      "metadata": {
        "colab": {
          "base_uri": "https://localhost:8080/"
        },
        "id": "3VQP2h2ecj7M",
        "outputId": "4a4fe564-d5c6-4792-8b6a-6aa898ce6ba2"
      },
      "execution_count": 58,
      "outputs": [
        {
          "output_type": "stream",
          "name": "stdout",
          "text": [
            "Requirement already satisfied: sklearn-som in /usr/local/lib/python3.7/dist-packages (1.1.0)\n",
            "Requirement already satisfied: numpy in /usr/local/lib/python3.7/dist-packages (from sklearn-som) (1.21.5)\n"
          ]
        }
      ]
    },
    {
      "cell_type": "code",
      "source": [
        "from sklearn_som.som import SOM\n",
        "# m -> row len of the self organising map\n",
        "# n -> col len of the self organising map\n",
        "som = SOM(m=3, n=3, dim=768)"
      ],
      "metadata": {
        "id": "ARUKB6AqcsLD"
      },
      "execution_count": 82,
      "outputs": []
    },
    {
      "cell_type": "code",
      "source": [
        "# training the self organising maps\n",
        "# here the sentence embedding size is n * dimension of data\n",
        "som.fit(sentence_embeddings , epochs = 10)\n"
      ],
      "metadata": {
        "id": "ix1GXTwMdAf8"
      },
      "execution_count": 60,
      "outputs": []
    },
    {
      "cell_type": "code",
      "source": [
        "predictions = som.predict(sentence_embeddings)"
      ],
      "metadata": {
        "id": "qM5Q3yaHdLZz"
      },
      "execution_count": 61,
      "outputs": []
    },
    {
      "cell_type": "code",
      "source": [
        "print(len(predictions))\n",
        "print(set(predictions))\n",
        "print(predictions[0])"
      ],
      "metadata": {
        "colab": {
          "base_uri": "https://localhost:8080/"
        },
        "id": "ZpMyeeI8dXGb",
        "outputId": "d2d11d92-8c29-4412-ca29-6fa0bab5d919"
      },
      "execution_count": 62,
      "outputs": [
        {
          "output_type": "stream",
          "name": "stdout",
          "text": [
            "76\n",
            "{0, 1, 2, 3, 4, 5, 6, 7, 8}\n",
            "4\n"
          ]
        }
      ]
    },
    {
      "cell_type": "code",
      "source": [
        "predictions"
      ],
      "metadata": {
        "colab": {
          "base_uri": "https://localhost:8080/"
        },
        "id": "eq7rwlSEdmpB",
        "outputId": "8cd99229-d397-4860-c877-4885ba65fdd1"
      },
      "execution_count": 63,
      "outputs": [
        {
          "output_type": "execute_result",
          "data": {
            "text/plain": [
              "array([4, 7, 4, 2, 2, 3, 0, 7, 3, 3, 6, 7, 6, 0, 1, 8, 7, 2, 2, 5, 6, 8,\n",
              "       0, 1, 5, 1, 7, 4, 1, 5, 2, 0, 1, 1, 7, 7, 0, 0, 4, 7, 6, 2, 3, 1,\n",
              "       2, 0, 5, 2, 0, 6, 7, 5, 1, 8, 8, 6, 2, 6, 8, 5, 0, 3, 0, 5, 0, 7,\n",
              "       2, 5, 4, 6, 2, 8, 8, 8, 0, 2])"
            ]
          },
          "metadata": {},
          "execution_count": 63
        }
      ]
    },
    {
      "cell_type": "code",
      "source": [
        ""
      ],
      "metadata": {
        "id": "RkJtS5OmfECq"
      },
      "execution_count": null,
      "outputs": []
    },
    {
      "cell_type": "markdown",
      "source": [
        "## Analysing Predictions"
      ],
      "metadata": {
        "id": "YjJ-Penof-cC"
      }
    },
    {
      "cell_type": "code",
      "source": [
        "# creating org_text -> prediction mapping\n",
        "cluster = dict()\n",
        "for i , sentence in enumerate(org_text):\n",
        "    cluster[sentence] = predictions[i]\n"
      ],
      "metadata": {
        "id": "mXl4d6o0gB0p"
      },
      "execution_count": 79,
      "outputs": []
    },
    {
      "cell_type": "code",
      "source": [
        "# sorting according to cluster\n",
        "sorted_keys = sorted(cluster, key=cluster.get)  # [1, 3, 2]\n",
        "sorted_cluster = dict()\n",
        "for w in sorted_keys:\n",
        "    sorted_cluster[w] = cluster[w]"
      ],
      "metadata": {
        "id": "k4BvjOeThAkh"
      },
      "execution_count": 80,
      "outputs": []
    },
    {
      "cell_type": "code",
      "source": [
        "for key , val in sorted_cluster.items():\n",
        "    print(f\"{key} : {val}\")"
      ],
      "metadata": {
        "colab": {
          "base_uri": "https://localhost:8080/"
        },
        "id": "3NBVOXu3gsxB",
        "outputId": "38631a18-62b2-461c-9eef-0944383db5b9"
      },
      "execution_count": 81,
      "outputs": [
        {
          "output_type": "stream",
          "name": "stdout",
          "text": [
            "And how will the Syrian government react? : 0\n",
            "Syrian crisis: Latest developments . : 0\n",
            "\"It needs time to be able to analyze the information and the samples,\" Nesirky said. : 0\n",
            "In a world with many dangers, this menace must be confronted.\" : 0\n",
            "What will happen if they vote no? : 0\n",
            "It's unclear. : 0\n",
            "Reactions mixed to Obama's speech . : 0\n",
            "\"So we are quite concerned.\" : 0\n",
            "What do Syria's neighbors think? : 0\n",
            "Syria's government unfazed . : 0\n",
            "Syria's prime minister appeared unfazed by the saber-rattling. : 0\n",
            "No explanation was offered for the discrepancy. : 0\n",
            "U.N. inspectors leave Syria . : 1\n",
            "He noted that Ban has repeatedly said there is no alternative to a political solution to the crisis in Syria, and that \"a military solution is not an option.\" : 1\n",
            "Some U.S. lawmakers have called for immediate action while others warn of stepping into what could become a quagmire. : 1\n",
            "Any military attack would not be open-ended or include U.S. ground forces, he said. : 1\n",
            "Syria missile strike: What would happen next? : 1\n",
            "Map: U.S. and allied assets around Syria . : 1\n",
            "5 key assertions: U.S. intelligence report on Syria . : 1\n",
            "\"We are glad the president is seeking authorization for any military action in Syria in response to serious, substantive questions being raised.\" : 1\n",
            "It's a step that is set to turn an international crisis into a fierce domestic political battle. : 2\n",
            "There are key questions looming over the debate: What did U.N. weapons inspectors find in Syria? : 2\n",
            "But who used the weapons in the reported toxic gas attack in a Damascus suburb on August 21 has been a key point of global debate over the Syrian crisis. : 2\n",
            "Top U.S. officials have said there's no doubt that the Syrian government was behind it, while Syrian officials have denied responsibility and blamed jihadists fighting with the rebels. : 2\n",
            "A failure to respond with force, Obama argued,  \"could lead to escalating use of chemical weapons or their proliferation to terrorist groups who would do our people harm. : 2\n",
            "\"The two leaders agreed that the international community must deliver a resolute message to the Assad regime -- and others who would consider using chemical weapons -- that these crimes are unacceptable and those who violate this international norm will be held accountable by the world,\" the White House said. : 2\n",
            "Syria: Who wants what after chemical weapons horror . : 2\n",
            "\"Our fear now is that the lack of action could embolden the regime and they repeat his attacks in a more serious way,\" said spokesman Louay Safi. : 2\n",
            "An influential lawmaker in Russia -- which has stood by Syria and criticized the United States -- had his own theory. : 2\n",
            "An anchor on Syrian state television said Obama \"appeared to be preparing for an aggression on Syria based on repeated lies.\" : 2\n",
            "The Syrian government has denied that it used chemical weapons in the August 21 attack, saying that jihadists fighting with the rebels used them in an effort to turn global sentiments against it. : 2\n",
            "Iran: U.S. military action in Syria would spark 'disaster' Opinion: Why strikes in Syria are a bad idea . : 2\n",
            "What happens if Congress votes no? : 3\n",
            "\"While I believe I have the authority to carry out this military action without specific congressional authorization, I know that the country will be stronger if we take this course, and our actions will be even more effective,\" he said. : 3\n",
            "\"We should have this debate, because the issues are too big for business as usual.\" : 3\n",
            "Meanwhile, as uncertainty loomed over how Congress would weigh in, U.S. military officials said they remained at the ready. : 3\n",
            "Why Russia, China, Iran stand by Assad . : 3\n",
            "It's official: U.S. President Barack Obama wants lawmakers to weigh in on whether to use military force in Syria. : 4\n",
            "The proposed legislation from Obama asks Congress to approve the use of military force \"to deter, disrupt, prevent and degrade the potential for future uses of chemical weapons or other weapons of mass destruction.\" : 4\n",
            "On Saturday, Obama proposed what he said would be a limited military action against Syrian President Bashar al-Assad. : 4\n",
            "A senior administration official told CNN that Obama has the authority to act without Congress -- even if Congress rejects his request for authorization to use force. : 4\n",
            "\"I think he has done well by doing what Cameron did in terms of taking the issue to Parliament,\" said Bashar Jaafari, Syria's ambassador to the United Nations. : 4\n",
            "British and U.S. intelligence reports say the attack involved chemical weapons, but U.N. officials have stressed the importance of waiting for an official report from inspectors. : 5\n",
            "Bergen:  Syria is a problem from hell for the U.S. Obama: 'This menace must be confronted' Obama's senior advisers have debated the next steps to take, and the president's comments Saturday came amid mounting political pressure over the situation in Syria. : 5\n",
            "Syria's alleged use of chemical weapons earlier this month \"is an assault on human dignity,\" the president said. : 5\n",
            "A spokesman for the Syrian National Coalition said that the opposition group was disappointed by Obama's announcement. : 5\n",
            "\"Under the Constitution, the responsibility to declare war lies with Congress,\" the Republican lawmakers said. : 5\n",
            "\"Like many other Americans...we're just tired of the United States getting involved and invading and bombing other countries,\" said Robin Rosecrans, who was among hundreds at a Los Angeles demonstration. : 5\n",
            "After Obama's speech, a military and political analyst on Syrian state TV said Obama is \"embarrassed\" that Russia opposes military action against Syria, is \"crying for help\" for someone to come to his rescue and is facing two defeats -- on the political and military levels. : 5\n",
            "A top Syrian diplomat told the state television network that Obama was facing pressure to take military action from Israel, Turkey, some Arabs and right-wing extremists in the United States. : 5\n",
            "Obama said top congressional leaders had agreed to schedule a debate when the body returns to Washington on September 9. : 6\n",
            "Transcript: Read Obama's full remarks . : 6\n",
            "The inspectors will share their findings with U.N. Secretary-General Ban Ki-moon Ban, who has said he wants to wait until the U.N. team's final report is completed before presenting it to the U.N. Security Council. : 6\n",
            "He spoke by phone with French President Francois Hollande before his Rose Garden speech. : 6\n",
            "Some members of Congress applauded Obama's decision. : 6\n",
            "\"I understand and support Barack Obama's position on Syria,\" Cameron said. : 6\n",
            "\"The main reason Obama is turning to the Congress:  the military operation did not get enough support either in the world, among allies of the US or in the United States itself,\" Alexei Pushkov, chairman of the international-affairs committee of the Russian State Duma, said in a Twitter post. : 6\n",
            "Both Obama and Cameron, he said, \"climbed to the top of the tree and don't know how to get down.\" : 6\n",
            "Obama sent a letter to the heads of the House and Senate on Saturday night, hours after announcing that he believes military action against Syrian targets is the right step to take over the alleged use of chemical weapons. : 7\n",
            "In a televised address from the White House Rose Garden earlier Saturday, the president said he would take his case to Congress, not because he has to -- but because he wants to. : 7\n",
            "The Senate Foreign Relations Committee will hold a hearing over the matter on Tuesday, Sen. Robert Menendez said. : 7\n",
            "\"The aim of the game here, the mandate, is very clear -- and that is to ascertain whether chemical weapons were used -- and not by whom,\" U.N. spokesman Martin Nesirky told reporters on Saturday. : 7\n",
            "Some global leaders have expressed support, but the British Parliament's vote against military action earlier this week was a blow to Obama's hopes of getting strong backing from key NATO allies. : 7\n",
            "Obama decision came Friday night . : 7\n",
            "On Friday night, the president made a last-minute decision to consult lawmakers. : 7\n",
            "Obama on Saturday continued to shore up support for a strike on the al-Assad government. : 7\n",
            "House Speaker John Boehner, Majority Leader Eric Cantor, Majority Whip Kevin McCarthy and Conference Chair Cathy McMorris Rodgers issued a statement Saturday praising the president. : 7\n",
            "\"The Syrian Army's status is on maximum readiness and fingers are on the trigger to confront all challenges,\" Wael Nader al-Halqi said during a meeting with a delegation of Syrian expatriates from Italy, according to a banner on Syria State TV that was broadcast prior to Obama's address. : 7\n",
            "Obama's remarks came shortly after U.N. inspectors left Syria, carrying evidence that will determine whether chemical weapons were used in an attack early last week in a Damascus suburb. : 8\n",
            "The Organization for the Prohibition of Chemical Weapons, which nine of the inspectors belong to, said Saturday that it could take up to three weeks to analyze the evidence they collected. : 8\n",
            "More than 160 legislators, including 63 of Obama's fellow Democrats, had signed letters calling for either a vote or at least a \"full debate\" before any U.S. action. : 8\n",
            "British Prime Minister David Cameron, whose own attempt to get lawmakers in his country to support military action in Syria failed earlier this week, responded to Obama's speech in a Twitter post Saturday. : 8\n",
            "In the United States, scattered groups of anti-war protesters around the country took to the streets Saturday. : 8\n",
            "British intelligence had put the number of people killed in the attack at more than 350. : 8\n",
            "On Saturday, Obama said \"all told, well over 1,000 people were murdered.\" : 8\n",
            "U.S. Secretary of State John Kerry on Friday cited a death toll of 1,429, more than 400 of them children. : 8\n"
          ]
        }
      ]
    },
    {
      "cell_type": "code",
      "source": [
        ""
      ],
      "metadata": {
        "id": "Jfdpk_DJg9xw"
      },
      "execution_count": null,
      "outputs": []
    }
  ]
}
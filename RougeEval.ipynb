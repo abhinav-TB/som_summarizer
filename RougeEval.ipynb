{
 "cells": [
  {
   "cell_type": "code",
   "execution_count": 1,
   "id": "1c2ec9ed",
   "metadata": {},
   "outputs": [
    {
     "name": "stdout",
     "output_type": "stream",
     "text": [
      "[nltk_data] Downloading package wordnet to\n",
      "[nltk_data]     C:\\Users\\advai\\AppData\\Roaming\\nltk_data...\n",
      "[nltk_data]   Package wordnet is already up-to-date!\n",
      "[nltk_data] Downloading package punkt to\n",
      "[nltk_data]     C:\\Users\\advai\\AppData\\Roaming\\nltk_data...\n",
      "[nltk_data]   Package punkt is already up-to-date!\n",
      "[nltk_data] Downloading package stopwords to\n",
      "[nltk_data]     C:\\Users\\advai\\AppData\\Roaming\\nltk_data...\n",
      "[nltk_data]   Package stopwords is already up-to-date!\n",
      "[nltk_data] Downloading package omw-1.4 to\n",
      "[nltk_data]     C:\\Users\\advai\\AppData\\Roaming\\nltk_data...\n",
      "[nltk_data]   Package omw-1.4 is already up-to-date!\n",
      "[nltk_data] Downloading package averaged_perceptron_tagger to\n",
      "[nltk_data]     C:\\Users\\advai\\AppData\\Roaming\\nltk_data...\n",
      "[nltk_data]   Package averaged_perceptron_tagger is already up-to-\n",
      "[nltk_data]       date!\n"
     ]
    }
   ],
   "source": [
    "from som_summarizer import summarizer"
   ]
  },
  {
   "cell_type": "code",
   "execution_count": 2,
   "id": "248d73f9",
   "metadata": {},
   "outputs": [
    {
     "name": "stdout",
     "output_type": "stream",
     "text": [
      "Requirement already satisfied: rouge in c:\\users\\advai\\anaconda3\\envs\\nlp_course\\lib\\site-packages (1.0.1)\n",
      "Requirement already satisfied: six in c:\\users\\advai\\anaconda3\\envs\\nlp_course\\lib\\site-packages (from rouge) (1.16.0)\n"
     ]
    }
   ],
   "source": [
    "!pip install rouge"
   ]
  },
  {
   "cell_type": "code",
   "execution_count": 3,
   "id": "eb4a7cd6",
   "metadata": {},
   "outputs": [
    {
     "name": "stdout",
     "output_type": "stream",
     "text": [
      "[nltk_data] Downloading package punkt to\n",
      "[nltk_data]     C:\\Users\\advai\\AppData\\Roaming\\nltk_data...\n",
      "[nltk_data]   Package punkt is already up-to-date!\n",
      "[nltk_data] Downloading package stopwords to\n",
      "[nltk_data]     C:\\Users\\advai\\AppData\\Roaming\\nltk_data...\n",
      "[nltk_data]   Package stopwords is already up-to-date!\n",
      "[nltk_data] Downloading package wordnet to\n",
      "[nltk_data]     C:\\Users\\advai\\AppData\\Roaming\\nltk_data...\n",
      "[nltk_data]   Package wordnet is already up-to-date!\n"
     ]
    }
   ],
   "source": [
    "import nltk\n",
    "nltk.download('punkt')\n",
    "nltk.download('stopwords')\n",
    "nltk.download('wordnet')\n",
    "import datasets"
   ]
  },
  {
   "cell_type": "code",
   "execution_count": 4,
   "id": "1d3a7d3d",
   "metadata": {},
   "outputs": [
    {
     "name": "stderr",
     "output_type": "stream",
     "text": [
      "Reusing dataset cnn_dailymail (C:\\Users\\advai\\.cache\\huggingface\\datasets\\ccdv___cnn_dailymail\\3.0.0\\3.0.0\\0107f7388b5c6fae455a5661bcd134fc22da53ea75852027040d8d1e997f101f)\n"
     ]
    },
    {
     "data": {
      "application/vnd.jupyter.widget-view+json": {
       "model_id": "c8ede6159aa44738bc3d3fcb2b03a363",
       "version_major": 2,
       "version_minor": 0
      },
      "text/plain": [
       "  0%|          | 0/3 [00:00<?, ?it/s]"
      ]
     },
     "metadata": {},
     "output_type": "display_data"
    }
   ],
   "source": [
    "dataset = datasets.load_dataset('ccdv/cnn_dailymail', '3.0.0')"
   ]
  },
  {
   "cell_type": "code",
   "execution_count": 5,
   "id": "87315bee",
   "metadata": {},
   "outputs": [
    {
     "name": "stdout",
     "output_type": "stream",
     "text": [
      "287113\n",
      "11490\n"
     ]
    }
   ],
   "source": [
    "df_train = dataset['train']\n",
    "df_test = dataset['test']['article']\n",
    "print(len(df_train))\n",
    "print(len(df_test))"
   ]
  },
  {
   "cell_type": "code",
   "execution_count": 7,
   "id": "e8b29eff",
   "metadata": {},
   "outputs": [
    {
     "name": "stdout",
     "output_type": "stream",
     "text": [
      "set 0\n",
      "set 1\n",
      "set 2\n",
      "set 3\n",
      "set 4\n",
      "set 5\n",
      "set 6\n",
      "set 7\n",
      "set 8\n",
      "set 9\n",
      "Average rouge-l scores :\n",
      " F-score - 0.4120242302930269\n",
      " Precision - 0.9961439150733338\n",
      " Recall - 0.26138573439032686\n"
     ]
    }
   ],
   "source": [
    "from rouge import Rouge\n",
    "r = Rouge()\n",
    "avg_f = 0\n",
    "avg_p = 0\n",
    "avg_r = 0\n",
    "\n",
    "s = summarizer(100)\n",
    "for i in range(0,10):\n",
    "    text = df_train[i]['article']\n",
    "    summary = s.generate_summary(text)\n",
    "    original = s.org_tokens\n",
    "    original = \"\".join(original)\n",
    "    r_scores = r.get_scores(summary, original, avg=True)\n",
    "    avg_f += r_scores['rouge-l']['f']\n",
    "    avg_p += r_scores['rouge-l']['p']\n",
    "    avg_r += r_scores['rouge-l']['r']\n",
    "    print(f\"set {i}\")\n",
    "\n",
    "print(f\"Average rouge-l scores :\\n F-score - {avg_f/10}\\n Precision - {avg_p/10}\\n Recall - {avg_r/10}\")\n",
    "    "
   ]
  }
 ],
 "metadata": {
  "kernelspec": {
   "display_name": "Python 3 (ipykernel)",
   "language": "python",
   "name": "python3"
  },
  "language_info": {
   "codemirror_mode": {
    "name": "ipython",
    "version": 3
   },
   "file_extension": ".py",
   "mimetype": "text/x-python",
   "name": "python",
   "nbconvert_exporter": "python",
   "pygments_lexer": "ipython3",
   "version": "3.7.11"
  }
 },
 "nbformat": 4,
 "nbformat_minor": 5
}
